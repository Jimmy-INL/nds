{
 "cells": [
  {
   "cell_type": "code",
   "execution_count": null,
   "metadata": {},
   "outputs": [],
   "source": [
    "%matplotlib inline\n",
    "\n",
    "import matplotlib\n",
    "import matplotlib.pyplot as plt\n",
    "import numpy as np\n",
    "import random\n",
    "import os\n",
    "import json\n",
    "import scipy\n",
    "import scipy.stats\n",
    "\n",
    "# Detectron colors\n",
    "_COLORS = np.array([\n",
    "    0.000, 0.447, 0.741,\n",
    "    0.850, 0.325, 0.098,\n",
    "    0.929, 0.694, 0.125,\n",
    "    0.494, 0.184, 0.556,\n",
    "    0.466, 0.674, 0.188\n",
    "]).astype(np.float32).reshape((-1, 3))\n",
    "\n",
    "# Random number generator seed\n",
    "_RNG_SEED = 1\n",
    "\n",
    "# Fix RNG seeds\n",
    "random.seed(_RNG_SEED)\n",
    "np.random.seed(_RNG_SEED)\n",
    "\n",
    "# Directory where sweep summaries are stored\n",
    "_DATA_DIR = '../data'"
   ]
  },
  {
   "cell_type": "code",
   "execution_count": null,
   "metadata": {},
   "outputs": [],
   "source": [
    "def load_sweep(sweep_name):\n",
    "    \"\"\"Loads a sweep summary.\"\"\"\n",
    "    summary_path = os.path.join(_DATA_DIR, '{}.json'.format(sweep_name))\n",
    "    with open(summary_path, 'r') as f:\n",
    "        sweep_summary = json.load(f)\n",
    "    return sweep_summary"
   ]
  },
  {
   "cell_type": "code",
   "execution_count": null,
   "metadata": {},
   "outputs": [],
   "source": [
    "# Load ResNet sweep\n",
    "sweep = load_sweep('ResNet')"
   ]
  },
  {
   "cell_type": "code",
   "execution_count": null,
   "metadata": {},
   "outputs": [],
   "source": [
    "# Text experiment, point estimates\n",
    "random.seed(_RNG_SEED)\n",
    "\n",
    "num_trials = 5000\n",
    "N_small = 100\n",
    "N_large = 1000\n",
    "\n",
    "small_mins = []\n",
    "large_mins = []\n",
    "\n",
    "for i in range(num_trials):\n",
    "    small = random.sample(sweep, N_small)\n",
    "    large = random.sample(sweep, N_large)\n",
    "    small_min = min([j['min_test_top1'] for j in small])\n",
    "    large_min = min([j['min_test_top1'] for j in large])\n",
    "    small_mins.append(small_min)\n",
    "    large_mins.append(large_min)\n",
    "\n",
    "small_mins = np.array(small_mins)\n",
    "large_mins = np.array(large_mins)"
   ]
  },
  {
   "cell_type": "code",
   "execution_count": null,
   "metadata": {},
   "outputs": [],
   "source": [
    "small_wins = np.sum((small_mins - large_mins) < 0)\n",
    "large_wins = np.sum((small_mins - large_mins) > 0)\n",
    "\n",
    "print('Small wins: {} ({}%)'.format(small_wins, small_wins / num_trials * 100))\n",
    "print('Large wins: {} ({}%)'.format(large_wins, large_wins / num_trials * 100))"
   ]
  },
  {
   "cell_type": "code",
   "execution_count": null,
   "metadata": {},
   "outputs": [],
   "source": [
    "random.seed(_RNG_SEED)\n",
    "\n",
    "N_small = 100\n",
    "N_large = 1000\n",
    "\n",
    "small = random.sample(sweep, N_small)\n",
    "large = random.sample(sweep, N_large)\n",
    "\n",
    "err_small = sorted([j['min_test_top1'] for j in small])\n",
    "err_large = sorted([j['min_test_top1'] for j in large])"
   ]
  },
  {
   "cell_type": "code",
   "execution_count": null,
   "metadata": {},
   "outputs": [],
   "source": [
    "# Null hypothesis: 2 independent samples are drawn from the same continuous distribution\n",
    "ks, p_val = scipy.stats.ks_2samp(err_small, err_large)\n",
    "print(ks, p_val)"
   ]
  },
  {
   "cell_type": "code",
   "execution_count": null,
   "metadata": {},
   "outputs": [],
   "source": [
    "r, c = 1, 1\n",
    "w, h = 4, 3\n",
    "fig, axes = plt.subplots(nrows=r, ncols=c, figsize=(c * w, r * h))\n",
    "\n",
    "#################\n",
    "# Point estimates\n",
    "#################\n",
    "ax = axes\n",
    "\n",
    "ax.hist(small_mins - large_mins, bins=29, color=_COLORS[0], alpha=0.8)\n",
    "ax.axvline(0, color=_COLORS[3], alpha=0.8, linewidth=2.5, linestyle='--')\n",
    "\n",
    "ax.set_xlabel('min_error(B) - min_error(M)', fontsize=16)\n",
    "ax.set_ylabel('number of values', fontsize=16)\n",
    "ax.grid(alpha=0.4)\n",
    "\n",
    "ax.set_xlim([-0.5, 1.0])\n",
    "ax.set_ylim([0, 500])\n",
    "\n",
    "plt.tight_layout()"
   ]
  },
  {
   "cell_type": "code",
   "execution_count": null,
   "metadata": {},
   "outputs": [],
   "source": [
    "r, c = 1, 2\n",
    "l_w, l_h = 4, 3\n",
    "r_w, r_h = 3, 3\n",
    "fig, axes = plt.subplots(\n",
    "    nrows=r, ncols=c,\n",
    "    figsize=(l_w + r_w, r * l_h),\n",
    "    gridspec_kw = {'width_ratios':[l_w, r_w]}\n",
    ")\n",
    "\n",
    "edf_small = np.arange(N_small) / float(N_small)\n",
    "edf_large = np.arange(N_large) / float(N_large)\n",
    "\n",
    "#######################\n",
    "# Distribution\n",
    "#######################\n",
    "ax = axes[0]\n",
    "\n",
    "ax.plot(\n",
    "    err_small, edf_small, color=_COLORS[1], linewidth=2, alpha=0.8,\n",
    "    zorder=1, label='B (n = 100)'\n",
    ")\n",
    "ax.plot(\n",
    "    err_large, edf_large, color=_COLORS[0], linewidth=2, alpha=0.8,\n",
    "    zorder=0, label='M (n = 1000)'\n",
    ")\n",
    "\n",
    "#ax.set_xlim([4.5, 13.5])\n",
    "ax.set_xlim([4.7, 12.3])\n",
    "ax.set_xticks([5, 6, 7, 8, 9, 10, 11, 12])\n",
    "ax.set_xlabel('error', fontsize=16)\n",
    "ax.set_ylabel('cumulative prob.', fontsize=16)\n",
    "ax.grid(alpha=0.4)\n",
    "ax.legend(loc='lower right', prop={'size': 14})\n",
    "\n",
    "#######################\n",
    "# Distribution, zoom\n",
    "#######################\n",
    "ax = axes[1]\n",
    "\n",
    "plt.plot(err_small, edf_small, color=_COLORS[1], linewidth=2, alpha=0.8, zorder=1)\n",
    "plt.plot(err_large, edf_large, color=_COLORS[0], linewidth=2, alpha=0.8, zorder=0)\n",
    "\n",
    "plt.ylim([0.8, 0.92])\n",
    "plt.xlim([7.6, 8.6])\n",
    "plt.xlabel('error', fontsize=16)\n",
    "plt.grid(alpha=0.4)\n",
    "\n",
    "plt.tight_layout()"
   ]
  },
  {
   "cell_type": "code",
   "execution_count": null,
   "metadata": {},
   "outputs": [],
   "source": []
  }
 ],
 "metadata": {
  "anp_cloned_from": {
   "notebook_id": "2049063365395324",
   "revision_id": "389064738356926"
  },
  "bento_stylesheets": {
   "bento/extensions/flow/main.css": true,
   "bento/extensions/kernel_selector/main.css": true,
   "bento/extensions/kernel_ui/main.css": true,
   "bento/extensions/new_kernel/main.css": true,
   "bento/extensions/system_usage/main.css": true,
   "bento/extensions/theme/main.css": true
  },
  "kernelspec": {
   "display_name": "Python 3",
   "language": "python",
   "name": "python3"
  },
  "language_info": {
   "codemirror_mode": {
    "name": "ipython",
    "version": 3
   },
   "file_extension": ".py",
   "mimetype": "text/x-python",
   "name": "python",
   "nbconvert_exporter": "python",
   "pygments_lexer": "ipython3",
   "version": "3.7.4"
  }
 },
 "nbformat": 4,
 "nbformat_minor": 2
}
