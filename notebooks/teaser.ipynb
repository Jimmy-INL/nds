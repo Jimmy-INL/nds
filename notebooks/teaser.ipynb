{
 "cells": [
  {
   "cell_type": "code",
   "execution_count": null,
   "metadata": {},
   "outputs": [],
   "source": [
    "%matplotlib inline\n",
    "\n",
    "import matplotlib\n",
    "import matplotlib.pyplot as plt\n",
    "import numpy as np\n",
    "import os\n",
    "import json\n",
    "import seaborn as sns\n",
    "\n",
    "# Detectron colors\n",
    "_COLORS = np.array([\n",
    "    0.000, 0.447, 0.741,\n",
    "    0.850, 0.325, 0.098,\n",
    "    0.929, 0.694, 0.125,\n",
    "    0.494, 0.184, 0.556,\n",
    "    0.466, 0.674, 0.188\n",
    "]).astype(np.float32).reshape((-1, 3))\n",
    "\n",
    "# Directory where sweep summaries are stored\n",
    "_DATA_DIR = '../data'"
   ]
  },
  {
   "cell_type": "code",
   "execution_count": null,
   "metadata": {},
   "outputs": [],
   "source": [
    "def compute_norm_ws(cs, num_bins, c_range):\n",
    "    \"\"\"Computes normalized EDF weights.\"\"\"\n",
    "    hist, edges = np.histogram(cs, bins=num_bins, range=c_range)\n",
    "    inds = np.digitize(cs, bins=edges) - 1\n",
    "    assert np.count_nonzero(hist) == num_bins\n",
    "    return 1 / hist[inds] / num_bins"
   ]
  },
  {
   "cell_type": "code",
   "execution_count": null,
   "metadata": {},
   "outputs": [],
   "source": [
    "def load_sweep(sweep_name):\n",
    "    \"\"\"Loads a sweep summary.\"\"\"\n",
    "    summary_path = os.path.join(_DATA_DIR, '{}.json'.format(sweep_name))\n",
    "    with open(summary_path, 'r') as f:\n",
    "        sweep_summary = json.load(f)\n",
    "    return sweep_summary"
   ]
  },
  {
   "cell_type": "code",
   "execution_count": null,
   "metadata": {},
   "outputs": [],
   "source": [
    "# Source: http://kaiminghe.com/ilsvrc15/ilsvrc2015_deep_residual_learning_kaiminghe.pdf\n",
    "point_ests = {\n",
    "    'ResNet': 3.57,\n",
    "    'VGG': 7.3,\n",
    "    'ZFNet': 11.7,\n",
    "    'AlexNet': 16.4\n",
    "}"
   ]
  },
  {
   "cell_type": "code",
   "execution_count": null,
   "metadata": {},
   "outputs": [],
   "source": [
    "# Source: https://github.com/facebookresearch/ResNeXt\n",
    "curve_ests_fs = {\n",
    "    'ResNet': [(8.0, 24), (16.0, 22.5), (23.0, 22.1)],\n",
    "    'ResNeXt': [(8.0, 22.1), (16.0, 21.1), (31.0, 20.4)]\n",
    "}"
   ]
  },
  {
   "cell_type": "code",
   "execution_count": null,
   "metadata": {},
   "outputs": [],
   "source": [
    "sweeps = {\n",
    "    'ResNet-B': load_sweep('ResNet-B'),\n",
    "    'ResNeXt-B': load_sweep('ResNeXt-B')\n",
    "}"
   ]
  },
  {
   "cell_type": "code",
   "execution_count": null,
   "metadata": {},
   "outputs": [],
   "source": [
    "_MIN_P = 0.023\n",
    "_MAX_P = 0.856\n",
    "\n",
    "def is_valid_p(job):\n",
    "    return _MIN_P < job['params'] * 1e-6 and job['params'] * 1e-6 < _MAX_P"
   ]
  },
  {
   "cell_type": "code",
   "execution_count": null,
   "metadata": {},
   "outputs": [],
   "source": [
    "print('Figure 1\\n')\n",
    "\n",
    "r, c = 1, 3\n",
    "w, h = 3, 3\n",
    "fig, axes = plt.subplots(\n",
    "    nrows=r, ncols=c,\n",
    "    figsize=(c * w, r * h),\n",
    "    gridspec_kw={'width_ratios':[w, w, w]}\n",
    ")\n",
    "\n",
    "title_font_size = 16\n",
    "axis_font_size = 15\n",
    "tick_font_size = 12\n",
    "legend_font_size = 12.5\n",
    "\n",
    "##########################################\n",
    "# Point estimates\n",
    "##########################################\n",
    "xs = list(point_ests.keys())[::-1]\n",
    "ys = list(point_ests.values())[::-1]\n",
    "\n",
    "ax = axes[0]\n",
    "ax = sns.barplot(x=xs, y=ys, palette=sns.color_palette(\"RdBu_r\", 6, desat=1.0), ax=ax, alpha=1.0)\n",
    "ax.set_title('(a) point estimates', fontsize=title_font_size)\n",
    "\n",
    "ax.set_ylim([0, 17.5])\n",
    "ax.grid(alpha=0.4)\n",
    "ax.set_ylabel('error', fontsize=axis_font_size)\n",
    "ax.tick_params(axis='x', labelsize=tick_font_size, rotation=-20)\n",
    "\n",
    "##########################################\n",
    "# Curve estimates\n",
    "##########################################\n",
    "ms = ['ResNet', 'ResNeXt']\n",
    "\n",
    "ax = axes[1]\n",
    "for i, m in enumerate(ms):\n",
    "    xs = [x for (x, y) in curve_ests_fs[m]]\n",
    "    ys = [y for (x, y) in curve_ests_fs[m]]\n",
    "    ax.plot(\n",
    "        xs, ys, label=m,\n",
    "        color=_COLORS[1 - i], alpha=0.8, linewidth=2.5,\n",
    "        marker='o', markersize=8\n",
    "    )\n",
    "\n",
    "ax.grid(alpha=0.4)\n",
    "ax.set_xlabel('complexity', fontsize=axis_font_size)\n",
    "ax.set_ylabel('error', fontsize=axis_font_size)\n",
    "ax.legend(loc='upper right', prop={'size' : legend_font_size})\n",
    "ax.set_title('(b) curve estimates', fontsize=title_font_size)\n",
    "ax.set_xlim([5, 35])\n",
    "ax.set_ylim([20, 25])\n",
    "\n",
    "ax.set_xticks([5, 10, 15, 20, 25, 30, 35], ['5.0', '10.0', '15.0', '20.0', '25.0', '30.0', '35.0'])\n",
    "ax.set_yticks([20, 21, 22, 23, 24, 25], ['20.0', '21.0', '22.0', '23.0', '24.0', '25.0'])\n",
    "\n",
    "##########################################\n",
    "# Distribution estimates\n",
    "##########################################\n",
    "dss = ['ResNet-B', 'ResNeXt-B']\n",
    "lbs = ['ResNet', 'ResNeXt']\n",
    "\n",
    "ax = axes[2]\n",
    "for i, ds in enumerate(dss):\n",
    "    errs = np.array([job['min_test_top1'] for job in sweeps[ds] if is_valid_p(job)])\n",
    "    ps = np.array([job['params'] * 1e-6 for job in sweeps[ds] if is_valid_p(job)])\n",
    "    inds = np.argsort(errs)\n",
    "    errs, ps = errs[inds], ps[inds]\n",
    "    ws = compute_norm_ws(ps, num_bins=40, c_range=(_MIN_P, _MAX_P))\n",
    "    assert np.isclose(np.sum(ws), 1.0)\n",
    "    ax.plot(\n",
    "        errs, np.cumsum(ws),\n",
    "        color=_COLORS[1 - i], linewidth=2.5, alpha=0.8, label=lbs[i]\n",
    "    )\n",
    "\n",
    "ax.grid(alpha=0.4)\n",
    "ax.set_title('(c) distribution estimates', fontsize=title_font_size)\n",
    "ax.set_xlabel('error | complexity', fontsize=axis_font_size)\n",
    "ax.set_ylabel('cumulative prob.', fontsize=axis_font_size)\n",
    "ax.set_xlim([4.5, 12.5])\n",
    "ax.legend(loc='lower right', prop={'size' : legend_font_size})\n",
    "\n",
    "plt.tight_layout();"
   ]
  },
  {
   "cell_type": "code",
   "execution_count": null,
   "metadata": {},
   "outputs": [],
   "source": []
  }
 ],
 "metadata": {
  "anp_cloned_from": {
   "notebook_id": "557674491425096",
   "revision_id": "420027328551442"
  },
  "bento_stylesheets": {
   "bento/extensions/flow/main.css": true,
   "bento/extensions/kernel_selector/main.css": true,
   "bento/extensions/kernel_ui/main.css": true,
   "bento/extensions/new_kernel/main.css": true,
   "bento/extensions/system_usage/main.css": true,
   "bento/extensions/theme/main.css": true
  },
  "kernelspec": {
   "display_name": "Python 3",
   "language": "python",
   "name": "python3"
  },
  "language_info": {
   "codemirror_mode": {
    "name": "ipython",
    "version": 3
   },
   "file_extension": ".py",
   "mimetype": "text/x-python",
   "name": "python",
   "nbconvert_exporter": "python",
   "pygments_lexer": "ipython3",
   "version": "3.7.4"
  }
 },
 "nbformat": 4,
 "nbformat_minor": 2
}
